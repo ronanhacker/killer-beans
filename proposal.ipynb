{
 "cells": [
  {
   "cell_type": "markdown",
   "metadata": {},
   "source": [
    "# Project Proposal\n",
    "*Ronan Hacker and Samuel Sword*"
   ]
  },
  {
   "cell_type": "markdown",
   "metadata": {},
   "source": [
    "For our project, the Killer Beans plan to analyze and develop a multiclass classifier using a tabular dataset originating from bean images which have been undergone segmentation and feature selection. The dataset is preprocessed and fully ready for machine learning purposes. There are no null values, and the classes are fairly well distributed. The dataset was retrieved from the UC Irvine Machine Learning Repository and the link can be found below:\n",
    "\n",
    "https://archive.ics.uci.edu/dataset/602/dry+bean+dataset"
   ]
  },
  {
   "cell_type": "code",
   "execution_count": 2,
   "metadata": {},
   "outputs": [],
   "source": [
    "import pandas as pd\n",
    "import numpy as np"
   ]
  },
  {
   "cell_type": "code",
   "execution_count": 4,
   "metadata": {},
   "outputs": [
    {
     "data": {
      "text/plain": [
       "(13611, 17)"
      ]
     },
     "execution_count": 4,
     "metadata": {},
     "output_type": "execute_result"
    }
   ],
   "source": [
    "bean_data = pd.read_csv('Dry_Bean_Dataset.csv')\n",
    "bean_data.shape"
   ]
  },
  {
   "cell_type": "markdown",
   "metadata": {},
   "source": [
    "The data consists of 13611 instances, and 17 features (one of which is the target variable)."
   ]
  },
  {
   "cell_type": "code",
   "execution_count": 5,
   "metadata": {},
   "outputs": [
    {
     "data": {
      "text/plain": [
       "Area               0\n",
       "Perimeter          0\n",
       "MajorAxisLength    0\n",
       "MinorAxisLength    0\n",
       "AspectRation       0\n",
       "Eccentricity       0\n",
       "ConvexArea         0\n",
       "EquivDiameter      0\n",
       "Extent             0\n",
       "Solidity           0\n",
       "roundness          0\n",
       "Compactness        0\n",
       "ShapeFactor1       0\n",
       "ShapeFactor2       0\n",
       "ShapeFactor3       0\n",
       "ShapeFactor4       0\n",
       "Class              0\n",
       "dtype: int64"
      ]
     },
     "execution_count": 5,
     "metadata": {},
     "output_type": "execute_result"
    }
   ],
   "source": [
    "# Null values\n",
    "bean_data.isna().sum()"
   ]
  },
  {
   "cell_type": "markdown",
   "metadata": {},
   "source": [
    "There are no missing values in the dataset."
   ]
  },
  {
   "cell_type": "markdown",
   "metadata": {},
   "source": [
    "Below are the proportions of classes. As can be seen, the Bombay flower is less represented than the others; if that proves to be an issue, we can consider various sampling methods in order to improve the performance of the model."
   ]
  },
  {
   "cell_type": "code",
   "execution_count": 52,
   "metadata": {},
   "outputs": [
    {
     "name": "stdout",
     "output_type": "stream",
     "text": [
      "Proportion of DERMASON: 26.05%\n",
      "Proportion of SIRA: 19.37%\n",
      "Proportion of SEKER: 14.89%\n",
      "Proportion of HOROZ: 14.17%\n",
      "Proportion of CALI: 11.98%\n",
      "Proportion of BARBUNYA: 9.71%\n",
      "Proportion of BOMBAY: 3.84%\n"
     ]
    }
   ],
   "source": [
    "classes = bean_data['Class'].value_counts().index.tolist()\n",
    "for flower in classes:\n",
    "    proportion = np.round(bean_data['Class'].value_counts()[flower] / bean_data.shape[0], 4) * 100\n",
    "    print('Proportion of '+flower+\": \"+str(proportion)+'%')"
   ]
  }
 ],
 "metadata": {
  "kernelspec": {
   "display_name": "enviornment1",
   "language": "python",
   "name": "enviornment1"
  },
  "language_info": {
   "codemirror_mode": {
    "name": "ipython",
    "version": 3
   },
   "file_extension": ".py",
   "mimetype": "text/x-python",
   "name": "python",
   "nbconvert_exporter": "python",
   "pygments_lexer": "ipython3",
   "version": "3.6.13"
  }
 },
 "nbformat": 4,
 "nbformat_minor": 2
}
