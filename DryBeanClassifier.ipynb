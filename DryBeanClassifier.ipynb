{
 "cells": [
  {
   "cell_type": "code",
   "execution_count": 34,
   "id": "44440c12-203d-4991-b52e-8eb1acc3073f",
   "metadata": {},
   "outputs": [],
   "source": [
    "import pandas as pd\n",
    "import numpy as np\n",
    "from sklearn.model_selection import StratifiedShuffleSplit\n",
    "from sklearn.preprocessing import LabelEncoder\n",
    "from sklearn.preprocessing import MinMaxScaler\n",
    "from sklearn.model_selection import cross_val_score\n",
    "from sklearn.model_selection import cross_val_predict\n",
    "from sklearn.ensemble import RandomForestClassifier\n",
    "from sklearn.ensemble import HistGradientBoostingClassifier\n",
    "from sklearn.metrics import confusion_matrix\n",
    "import matplotlib.pyplot as plt"
   ]
  },
  {
   "cell_type": "code",
   "execution_count": 2,
   "id": "3ae52db6-a657-4d09-a5e0-c91bd328bbf0",
   "metadata": {},
   "outputs": [
    {
     "data": {
      "text/html": [
       "<div>\n",
       "<style scoped>\n",
       "    .dataframe tbody tr th:only-of-type {\n",
       "        vertical-align: middle;\n",
       "    }\n",
       "\n",
       "    .dataframe tbody tr th {\n",
       "        vertical-align: top;\n",
       "    }\n",
       "\n",
       "    .dataframe thead th {\n",
       "        text-align: right;\n",
       "    }\n",
       "</style>\n",
       "<table border=\"1\" class=\"dataframe\">\n",
       "  <thead>\n",
       "    <tr style=\"text-align: right;\">\n",
       "      <th></th>\n",
       "      <th>Area</th>\n",
       "      <th>Perimeter</th>\n",
       "      <th>MajorAxisLength</th>\n",
       "      <th>MinorAxisLength</th>\n",
       "      <th>AspectRation</th>\n",
       "      <th>Eccentricity</th>\n",
       "      <th>ConvexArea</th>\n",
       "      <th>EquivDiameter</th>\n",
       "      <th>Extent</th>\n",
       "      <th>Solidity</th>\n",
       "      <th>roundness</th>\n",
       "      <th>Compactness</th>\n",
       "      <th>ShapeFactor1</th>\n",
       "      <th>ShapeFactor2</th>\n",
       "      <th>ShapeFactor3</th>\n",
       "      <th>ShapeFactor4</th>\n",
       "      <th>Class</th>\n",
       "    </tr>\n",
       "  </thead>\n",
       "  <tbody>\n",
       "    <tr>\n",
       "      <th>0</th>\n",
       "      <td>28395</td>\n",
       "      <td>610.291</td>\n",
       "      <td>208.178117</td>\n",
       "      <td>173.888747</td>\n",
       "      <td>1.197191</td>\n",
       "      <td>0.549812</td>\n",
       "      <td>28715</td>\n",
       "      <td>190.141097</td>\n",
       "      <td>0.763923</td>\n",
       "      <td>0.988856</td>\n",
       "      <td>0.958027</td>\n",
       "      <td>0.913358</td>\n",
       "      <td>0.007332</td>\n",
       "      <td>0.003147</td>\n",
       "      <td>0.834222</td>\n",
       "      <td>0.998724</td>\n",
       "      <td>SEKER</td>\n",
       "    </tr>\n",
       "    <tr>\n",
       "      <th>1</th>\n",
       "      <td>28734</td>\n",
       "      <td>638.018</td>\n",
       "      <td>200.524796</td>\n",
       "      <td>182.734419</td>\n",
       "      <td>1.097356</td>\n",
       "      <td>0.411785</td>\n",
       "      <td>29172</td>\n",
       "      <td>191.272751</td>\n",
       "      <td>0.783968</td>\n",
       "      <td>0.984986</td>\n",
       "      <td>0.887034</td>\n",
       "      <td>0.953861</td>\n",
       "      <td>0.006979</td>\n",
       "      <td>0.003564</td>\n",
       "      <td>0.909851</td>\n",
       "      <td>0.998430</td>\n",
       "      <td>SEKER</td>\n",
       "    </tr>\n",
       "    <tr>\n",
       "      <th>2</th>\n",
       "      <td>29380</td>\n",
       "      <td>624.110</td>\n",
       "      <td>212.826130</td>\n",
       "      <td>175.931143</td>\n",
       "      <td>1.209713</td>\n",
       "      <td>0.562727</td>\n",
       "      <td>29690</td>\n",
       "      <td>193.410904</td>\n",
       "      <td>0.778113</td>\n",
       "      <td>0.989559</td>\n",
       "      <td>0.947849</td>\n",
       "      <td>0.908774</td>\n",
       "      <td>0.007244</td>\n",
       "      <td>0.003048</td>\n",
       "      <td>0.825871</td>\n",
       "      <td>0.999066</td>\n",
       "      <td>SEKER</td>\n",
       "    </tr>\n",
       "    <tr>\n",
       "      <th>3</th>\n",
       "      <td>30008</td>\n",
       "      <td>645.884</td>\n",
       "      <td>210.557999</td>\n",
       "      <td>182.516516</td>\n",
       "      <td>1.153638</td>\n",
       "      <td>0.498616</td>\n",
       "      <td>30724</td>\n",
       "      <td>195.467062</td>\n",
       "      <td>0.782681</td>\n",
       "      <td>0.976696</td>\n",
       "      <td>0.903936</td>\n",
       "      <td>0.928329</td>\n",
       "      <td>0.007017</td>\n",
       "      <td>0.003215</td>\n",
       "      <td>0.861794</td>\n",
       "      <td>0.994199</td>\n",
       "      <td>SEKER</td>\n",
       "    </tr>\n",
       "    <tr>\n",
       "      <th>4</th>\n",
       "      <td>30140</td>\n",
       "      <td>620.134</td>\n",
       "      <td>201.847882</td>\n",
       "      <td>190.279279</td>\n",
       "      <td>1.060798</td>\n",
       "      <td>0.333680</td>\n",
       "      <td>30417</td>\n",
       "      <td>195.896503</td>\n",
       "      <td>0.773098</td>\n",
       "      <td>0.990893</td>\n",
       "      <td>0.984877</td>\n",
       "      <td>0.970516</td>\n",
       "      <td>0.006697</td>\n",
       "      <td>0.003665</td>\n",
       "      <td>0.941900</td>\n",
       "      <td>0.999166</td>\n",
       "      <td>SEKER</td>\n",
       "    </tr>\n",
       "  </tbody>\n",
       "</table>\n",
       "</div>"
      ],
      "text/plain": [
       "    Area  Perimeter  MajorAxisLength  MinorAxisLength  AspectRation  \\\n",
       "0  28395    610.291       208.178117       173.888747      1.197191   \n",
       "1  28734    638.018       200.524796       182.734419      1.097356   \n",
       "2  29380    624.110       212.826130       175.931143      1.209713   \n",
       "3  30008    645.884       210.557999       182.516516      1.153638   \n",
       "4  30140    620.134       201.847882       190.279279      1.060798   \n",
       "\n",
       "   Eccentricity  ConvexArea  EquivDiameter    Extent  Solidity  roundness  \\\n",
       "0      0.549812       28715     190.141097  0.763923  0.988856   0.958027   \n",
       "1      0.411785       29172     191.272751  0.783968  0.984986   0.887034   \n",
       "2      0.562727       29690     193.410904  0.778113  0.989559   0.947849   \n",
       "3      0.498616       30724     195.467062  0.782681  0.976696   0.903936   \n",
       "4      0.333680       30417     195.896503  0.773098  0.990893   0.984877   \n",
       "\n",
       "   Compactness  ShapeFactor1  ShapeFactor2  ShapeFactor3  ShapeFactor4  Class  \n",
       "0     0.913358      0.007332      0.003147      0.834222      0.998724  SEKER  \n",
       "1     0.953861      0.006979      0.003564      0.909851      0.998430  SEKER  \n",
       "2     0.908774      0.007244      0.003048      0.825871      0.999066  SEKER  \n",
       "3     0.928329      0.007017      0.003215      0.861794      0.994199  SEKER  \n",
       "4     0.970516      0.006697      0.003665      0.941900      0.999166  SEKER  "
      ]
     },
     "execution_count": 2,
     "metadata": {},
     "output_type": "execute_result"
    }
   ],
   "source": [
    "data = pd.read_csv('Dry_Bean_Dataset.csv')\n",
    "data.head()"
   ]
  },
  {
   "cell_type": "code",
   "execution_count": 3,
   "id": "30ad6bfc-93b0-4e8b-af5e-9c965c7564ab",
   "metadata": {},
   "outputs": [
    {
     "name": "stdout",
     "output_type": "stream",
     "text": [
      "<class 'pandas.core.frame.DataFrame'>\n",
      "RangeIndex: 13611 entries, 0 to 13610\n",
      "Data columns (total 17 columns):\n",
      " #   Column           Non-Null Count  Dtype  \n",
      "---  ------           --------------  -----  \n",
      " 0   Area             13611 non-null  int64  \n",
      " 1   Perimeter        13611 non-null  float64\n",
      " 2   MajorAxisLength  13611 non-null  float64\n",
      " 3   MinorAxisLength  13611 non-null  float64\n",
      " 4   AspectRation     13611 non-null  float64\n",
      " 5   Eccentricity     13611 non-null  float64\n",
      " 6   ConvexArea       13611 non-null  int64  \n",
      " 7   EquivDiameter    13611 non-null  float64\n",
      " 8   Extent           13611 non-null  float64\n",
      " 9   Solidity         13611 non-null  float64\n",
      " 10  roundness        13611 non-null  float64\n",
      " 11  Compactness      13611 non-null  float64\n",
      " 12  ShapeFactor1     13611 non-null  float64\n",
      " 13  ShapeFactor2     13611 non-null  float64\n",
      " 14  ShapeFactor3     13611 non-null  float64\n",
      " 15  ShapeFactor4     13611 non-null  float64\n",
      " 16  Class            13611 non-null  object \n",
      "dtypes: float64(14), int64(2), object(1)\n",
      "memory usage: 1.8+ MB\n"
     ]
    }
   ],
   "source": [
    "data.info()"
   ]
  },
  {
   "cell_type": "code",
   "execution_count": 4,
   "id": "7b3b750d-2a93-444a-a950-d45f28ea3f4c",
   "metadata": {},
   "outputs": [
    {
     "data": {
      "text/plain": [
       "Class\n",
       "DERMASON    3546\n",
       "SIRA        2636\n",
       "SEKER       2027\n",
       "HOROZ       1928\n",
       "CALI        1630\n",
       "BARBUNYA    1322\n",
       "BOMBAY       522\n",
       "Name: count, dtype: int64"
      ]
     },
     "execution_count": 4,
     "metadata": {},
     "output_type": "execute_result"
    }
   ],
   "source": [
    "data[\"Class\"].value_counts()"
   ]
  },
  {
   "cell_type": "code",
   "execution_count": 5,
   "id": "af93704e-437a-4a1e-a4b0-cec2e2902bc3",
   "metadata": {},
   "outputs": [],
   "source": [
    "split = StratifiedShuffleSplit(n_splits=1, test_size=0.2, random_state=42)\n",
    "for train_index, test_index in split.split(data, data[\"Class\"]):\n",
    " strat_train_set = data.loc[train_index]\n",
    " strat_test_set = data.loc[test_index]\n",
    "beans = strat_train_set.copy()"
   ]
  },
  {
   "cell_type": "code",
   "execution_count": 6,
   "id": "217bf348-50fc-4dd2-9fea-dd4a6e3d1da6",
   "metadata": {},
   "outputs": [
    {
     "data": {
      "text/plain": [
       "1453    5\n",
       "6470    4\n",
       "4639    2\n",
       "4655    2\n",
       "1936    5\n",
       "       ..\n",
       "2172    0\n",
       "5291    2\n",
       "2477    0\n",
       "6431    4\n",
       "3600    1\n",
       "Name: Class, Length: 10888, dtype: int64"
      ]
     },
     "execution_count": 6,
     "metadata": {},
     "output_type": "execute_result"
    }
   ],
   "source": [
    "le = LabelEncoder()\n",
    "beans[\"Class\"] = le.fit_transform(beans[\"Class\"])\n",
    "beans[\"Class\"]"
   ]
  },
  {
   "cell_type": "code",
   "execution_count": 7,
   "id": "0a71d76a-1a02-472b-9acc-3ee3b4096885",
   "metadata": {},
   "outputs": [
    {
     "data": {
      "text/plain": [
       "Class              1.000000\n",
       "ShapeFactor1       0.389957\n",
       "roundness          0.385472\n",
       "ShapeFactor2       0.334449\n",
       "Solidity           0.323563\n",
       "ShapeFactor3       0.168400\n",
       "ShapeFactor4       0.163410\n",
       "Compactness        0.156856\n",
       "Extent            -0.031167\n",
       "AspectRation      -0.116804\n",
       "Eccentricity      -0.201311\n",
       "MajorAxisLength   -0.454153\n",
       "MinorAxisLength   -0.456568\n",
       "Area              -0.474206\n",
       "ConvexArea        -0.476492\n",
       "EquivDiameter     -0.479618\n",
       "Perimeter         -0.506347\n",
       "Name: Class, dtype: float64"
      ]
     },
     "execution_count": 7,
     "metadata": {},
     "output_type": "execute_result"
    }
   ],
   "source": [
    "corr_matrix = beans.corr()\n",
    "corr_matrix[\"Class\"].sort_values(ascending=False)"
   ]
  },
  {
   "cell_type": "code",
   "execution_count": 8,
   "id": "3894b9e4-eb3b-4b4f-9ada-6deaab3dc129",
   "metadata": {},
   "outputs": [],
   "source": [
    "labels = beans[['Class']]\n",
    "features_unscaled = beans.drop('Class', axis=1)"
   ]
  },
  {
   "cell_type": "code",
   "execution_count": 9,
   "id": "ab8063fb-ed8f-4eab-93e5-70b9ec437e53",
   "metadata": {},
   "outputs": [
    {
     "data": {
      "text/html": [
       "<div>\n",
       "<style scoped>\n",
       "    .dataframe tbody tr th:only-of-type {\n",
       "        vertical-align: middle;\n",
       "    }\n",
       "\n",
       "    .dataframe tbody tr th {\n",
       "        vertical-align: top;\n",
       "    }\n",
       "\n",
       "    .dataframe thead th {\n",
       "        text-align: right;\n",
       "    }\n",
       "</style>\n",
       "<table border=\"1\" class=\"dataframe\">\n",
       "  <thead>\n",
       "    <tr style=\"text-align: right;\">\n",
       "      <th></th>\n",
       "      <th>Area</th>\n",
       "      <th>Perimeter</th>\n",
       "      <th>MajorAxisLength</th>\n",
       "      <th>MinorAxisLength</th>\n",
       "      <th>AspectRation</th>\n",
       "      <th>Eccentricity</th>\n",
       "      <th>ConvexArea</th>\n",
       "      <th>EquivDiameter</th>\n",
       "      <th>Extent</th>\n",
       "      <th>Solidity</th>\n",
       "      <th>roundness</th>\n",
       "      <th>Compactness</th>\n",
       "      <th>ShapeFactor1</th>\n",
       "      <th>ShapeFactor2</th>\n",
       "      <th>ShapeFactor3</th>\n",
       "      <th>ShapeFactor4</th>\n",
       "    </tr>\n",
       "  </thead>\n",
       "  <tbody>\n",
       "    <tr>\n",
       "      <th>count</th>\n",
       "      <td>10888.000000</td>\n",
       "      <td>10888.000000</td>\n",
       "      <td>10888.000000</td>\n",
       "      <td>10888.000000</td>\n",
       "      <td>10888.000000</td>\n",
       "      <td>10888.000000</td>\n",
       "      <td>10888.000000</td>\n",
       "      <td>10888.000000</td>\n",
       "      <td>10888.000000</td>\n",
       "      <td>10888.000000</td>\n",
       "      <td>10888.000000</td>\n",
       "      <td>10888.000000</td>\n",
       "      <td>10888.000000</td>\n",
       "      <td>10888.000000</td>\n",
       "      <td>10888.000000</td>\n",
       "      <td>10888.000000</td>\n",
       "    </tr>\n",
       "    <tr>\n",
       "      <th>mean</th>\n",
       "      <td>-0.714057</td>\n",
       "      <td>-0.518252</td>\n",
       "      <td>-0.497223</td>\n",
       "      <td>-0.527911</td>\n",
       "      <td>-0.205519</td>\n",
       "      <td>0.536356</td>\n",
       "      <td>-0.713073</td>\n",
       "      <td>-0.542572</td>\n",
       "      <td>0.248863</td>\n",
       "      <td>0.799912</td>\n",
       "      <td>0.531526</td>\n",
       "      <td>-0.081118</td>\n",
       "      <td>-0.012898</td>\n",
       "      <td>-0.257871</td>\n",
       "      <td>-0.173429</td>\n",
       "      <td>0.820094</td>\n",
       "    </tr>\n",
       "    <tr>\n",
       "      <th>std</th>\n",
       "      <td>0.256911</td>\n",
       "      <td>0.312252</td>\n",
       "      <td>0.315436</td>\n",
       "      <td>0.266335</td>\n",
       "      <td>0.351117</td>\n",
       "      <td>0.265397</td>\n",
       "      <td>0.258114</td>\n",
       "      <td>0.294868</td>\n",
       "      <td>0.315524</td>\n",
       "      <td>0.124420</td>\n",
       "      <td>0.237653</td>\n",
       "      <td>0.355854</td>\n",
       "      <td>0.293833</td>\n",
       "      <td>0.384990</td>\n",
       "      <td>0.350587</td>\n",
       "      <td>0.168462</td>\n",
       "    </tr>\n",
       "    <tr>\n",
       "      <th>min</th>\n",
       "      <td>-1.000000</td>\n",
       "      <td>-1.000000</td>\n",
       "      <td>-1.000000</td>\n",
       "      <td>-1.000000</td>\n",
       "      <td>-1.000000</td>\n",
       "      <td>-1.000000</td>\n",
       "      <td>-1.000000</td>\n",
       "      <td>-1.000000</td>\n",
       "      <td>-1.000000</td>\n",
       "      <td>-1.000000</td>\n",
       "      <td>-1.000000</td>\n",
       "      <td>-1.000000</td>\n",
       "      <td>-1.000000</td>\n",
       "      <td>-1.000000</td>\n",
       "      <td>-1.000000</td>\n",
       "      <td>-1.000000</td>\n",
       "    </tr>\n",
       "    <tr>\n",
       "      <th>25%</th>\n",
       "      <td>-0.860494</td>\n",
       "      <td>-0.739201</td>\n",
       "      <td>-0.743314</td>\n",
       "      <td>-0.684897</td>\n",
       "      <td>-0.419196</td>\n",
       "      <td>0.436334</td>\n",
       "      <td>-0.860899</td>\n",
       "      <td>-0.731719</td>\n",
       "      <td>0.048571</td>\n",
       "      <td>0.761069</td>\n",
       "      <td>0.366640</td>\n",
       "      <td>-0.296019</td>\n",
       "      <td>-0.185188</td>\n",
       "      <td>-0.620526</td>\n",
       "      <td>-0.393183</td>\n",
       "      <td>0.768229</td>\n",
       "    </tr>\n",
       "    <tr>\n",
       "      <th>50%</th>\n",
       "      <td>-0.787328</td>\n",
       "      <td>-0.605714</td>\n",
       "      <td>-0.581668</td>\n",
       "      <td>-0.585875</td>\n",
       "      <td>-0.251516</td>\n",
       "      <td>0.575200</td>\n",
       "      <td>-0.787112</td>\n",
       "      <td>-0.614976</td>\n",
       "      <td>0.312563</td>\n",
       "      <td>0.830157</td>\n",
       "      <td>0.570610</td>\n",
       "      <td>-0.072839</td>\n",
       "      <td>0.007899</td>\n",
       "      <td>-0.274078</td>\n",
       "      <td>-0.178771</td>\n",
       "      <td>0.870772</td>\n",
       "    </tr>\n",
       "    <tr>\n",
       "      <th>75%</th>\n",
       "      <td>-0.640879</td>\n",
       "      <td>-0.340435</td>\n",
       "      <td>-0.290889</td>\n",
       "      <td>-0.441732</td>\n",
       "      <td>-0.030709</td>\n",
       "      <td>0.707626</td>\n",
       "      <td>-0.638115</td>\n",
       "      <td>-0.410379</td>\n",
       "      <td>0.487362</td>\n",
       "      <td>0.876272</td>\n",
       "      <td>0.705156</td>\n",
       "      <td>0.115371</td>\n",
       "      <td>0.172142</td>\n",
       "      <td>0.035489</td>\n",
       "      <td>0.010292</td>\n",
       "      <td>0.928503</td>\n",
       "    </tr>\n",
       "    <tr>\n",
       "      <th>max</th>\n",
       "      <td>1.000000</td>\n",
       "      <td>1.000000</td>\n",
       "      <td>1.000000</td>\n",
       "      <td>1.000000</td>\n",
       "      <td>1.000000</td>\n",
       "      <td>1.000000</td>\n",
       "      <td>1.000000</td>\n",
       "      <td>1.000000</td>\n",
       "      <td>1.000000</td>\n",
       "      <td>1.000000</td>\n",
       "      <td>1.000000</td>\n",
       "      <td>1.000000</td>\n",
       "      <td>1.000000</td>\n",
       "      <td>1.000000</td>\n",
       "      <td>1.000000</td>\n",
       "      <td>1.000000</td>\n",
       "    </tr>\n",
       "  </tbody>\n",
       "</table>\n",
       "</div>"
      ],
      "text/plain": [
       "               Area     Perimeter  MajorAxisLength  MinorAxisLength  \\\n",
       "count  10888.000000  10888.000000     10888.000000     10888.000000   \n",
       "mean      -0.714057     -0.518252        -0.497223        -0.527911   \n",
       "std        0.256911      0.312252         0.315436         0.266335   \n",
       "min       -1.000000     -1.000000        -1.000000        -1.000000   \n",
       "25%       -0.860494     -0.739201        -0.743314        -0.684897   \n",
       "50%       -0.787328     -0.605714        -0.581668        -0.585875   \n",
       "75%       -0.640879     -0.340435        -0.290889        -0.441732   \n",
       "max        1.000000      1.000000         1.000000         1.000000   \n",
       "\n",
       "       AspectRation  Eccentricity    ConvexArea  EquivDiameter        Extent  \\\n",
       "count  10888.000000  10888.000000  10888.000000   10888.000000  10888.000000   \n",
       "mean      -0.205519      0.536356     -0.713073      -0.542572      0.248863   \n",
       "std        0.351117      0.265397      0.258114       0.294868      0.315524   \n",
       "min       -1.000000     -1.000000     -1.000000      -1.000000     -1.000000   \n",
       "25%       -0.419196      0.436334     -0.860899      -0.731719      0.048571   \n",
       "50%       -0.251516      0.575200     -0.787112      -0.614976      0.312563   \n",
       "75%       -0.030709      0.707626     -0.638115      -0.410379      0.487362   \n",
       "max        1.000000      1.000000      1.000000       1.000000      1.000000   \n",
       "\n",
       "           Solidity     roundness   Compactness  ShapeFactor1  ShapeFactor2  \\\n",
       "count  10888.000000  10888.000000  10888.000000  10888.000000  10888.000000   \n",
       "mean       0.799912      0.531526     -0.081118     -0.012898     -0.257871   \n",
       "std        0.124420      0.237653      0.355854      0.293833      0.384990   \n",
       "min       -1.000000     -1.000000     -1.000000     -1.000000     -1.000000   \n",
       "25%        0.761069      0.366640     -0.296019     -0.185188     -0.620526   \n",
       "50%        0.830157      0.570610     -0.072839      0.007899     -0.274078   \n",
       "75%        0.876272      0.705156      0.115371      0.172142      0.035489   \n",
       "max        1.000000      1.000000      1.000000      1.000000      1.000000   \n",
       "\n",
       "       ShapeFactor3  ShapeFactor4  \n",
       "count  10888.000000  10888.000000  \n",
       "mean      -0.173429      0.820094  \n",
       "std        0.350587      0.168462  \n",
       "min       -1.000000     -1.000000  \n",
       "25%       -0.393183      0.768229  \n",
       "50%       -0.178771      0.870772  \n",
       "75%        0.010292      0.928503  \n",
       "max        1.000000      1.000000  "
      ]
     },
     "execution_count": 9,
     "metadata": {},
     "output_type": "execute_result"
    }
   ],
   "source": [
    "min_max = MinMaxScaler(feature_range=(-1, 1))\n",
    "features_scaled = min_max.fit_transform(features_unscaled)\n",
    "features = pd.DataFrame(features_scaled, index=features_unscaled.index, columns=features_unscaled.columns)\n",
    "features.describe()"
   ]
  },
  {
   "cell_type": "code",
   "execution_count": 15,
   "id": "a01176cb-17d2-42b4-ad7f-28b77b282a0a",
   "metadata": {},
   "outputs": [
    {
     "data": {
      "text/plain": [
       "array([5, 4, 2, ..., 0, 4, 1])"
      ]
     },
     "execution_count": 15,
     "metadata": {},
     "output_type": "execute_result"
    }
   ],
   "source": [
    "labels_arr = labels.to_numpy().ravel()\n",
    "features_arr = features.to_numpy()\n",
    "\n",
    "forest_clf = RandomForestClassifier()\n",
    "probas_forest = cross_val_predict(forest_clf, features_arr, labels_arr, cv=3)\n",
    "probas_forest"
   ]
  },
  {
   "cell_type": "code",
   "execution_count": 29,
   "id": "95980e81-22d9-4caa-994d-64e6db70f383",
   "metadata": {},
   "outputs": [],
   "source": [
    "conf_mx = confusion_matrix(labels_arr, probas_forest)"
   ]
  },
  {
   "cell_type": "code",
   "execution_count": 33,
   "id": "64d9f3c3-3a6e-4216-a6a4-975496d6b4b9",
   "metadata": {},
   "outputs": [
    {
     "data": {
      "image/png": "[encoded data removed]",
      "text/plain": [
       "<Figure size 480x480 with 1 Axes>"
      ]
     },
     "metadata": {},
     "output_type": "display_data"
    }
   ],
   "source": [
    "row_sums = conf_mx.sum(axis=1, keepdims=True)\n",
    "norm_conf_mx = conf_mx / row_sums\n",
    "np.fill_diagonal(norm_conf_mx, 0)\n",
    "plt.matshow(norm_conf_mx, cmap=plt.cm.gray)\n",
    "plt.show()"
   ]
  },
  {
   "cell_type": "code",
   "execution_count": 18,
   "id": "bb4146ba-c034-4334-9a88-14c91b4ba18d",
   "metadata": {},
   "outputs": [
    {
     "data": {
      "text/plain": [
       "array([0.92883379, 0.91919192, 0.92011019, 0.92512632, 0.92512632])"
      ]
     },
     "execution_count": 18,
     "metadata": {},
     "output_type": "execute_result"
    }
   ],
   "source": [
    "forest_clf.fit(features_arr, labels_arr)\n",
    "cross_val_score(forest_clf, features_arr, labels_arr)"
   ]
  },
  {
   "cell_type": "code",
   "execution_count": 24,
   "id": "3b746037-7f8c-4304-bf80-39cd718be895",
   "metadata": {},
   "outputs": [
    {
     "data": {
      "text/plain": [
       "array([3, 1, 6, ..., 4, 2, 3])"
      ]
     },
     "execution_count": 24,
     "metadata": {},
     "output_type": "execute_result"
    }
   ],
   "source": [
    "test_set = strat_test_set.drop('Class', axis=1)\n",
    "test_set_scaled = min_max.fit_transform(test_set)\n",
    "prediction = forest_clf.predict(test_set_scaled)\n",
    "prediction"
   ]
  },
  {
   "cell_type": "code",
   "execution_count": 27,
   "id": "bffa4663-847f-4041-8491-ced8f3bdd9be",
   "metadata": {},
   "outputs": [
    {
     "data": {
      "text/plain": [
       "90.70877708409843"
      ]
     },
     "execution_count": 27,
     "metadata": {},
     "output_type": "execute_result"
    }
   ],
   "source": [
    "correct_labels = le.fit_transform(strat_test_set['Class'])\n",
    "accuracy = np.mean(prediction == correct_labels) * 100\n",
    "accuracy"
   ]
  },
  {
   "cell_type": "code",
   "execution_count": 36,
   "id": "05de2e1e-f23b-447c-a2d8-f232e047381c",
   "metadata": {},
   "outputs": [],
   "source": [
    "GBM_clf = HistGradientBoostingClassifier().fit(features_arr, labels_arr)"
   ]
  },
  {
   "cell_type": "code",
   "execution_count": 37,
   "id": "5a2a62bf-ae2d-466e-8f2a-91a0c81dd65b",
   "metadata": {},
   "outputs": [
    {
     "data": {
      "text/plain": [
       "array([0.94077135, 0.92056933, 0.92699725, 0.92237023, 0.93569132])"
      ]
     },
     "execution_count": 37,
     "metadata": {},
     "output_type": "execute_result"
    }
   ],
   "source": [
    "cross_val_score(GBM_clf, features_arr, labels_arr)"
   ]
  },
  {
   "cell_type": "code",
   "execution_count": 38,
   "id": "2cb7a3e0-ec71-41e7-9f00-17a87634f164",
   "metadata": {},
   "outputs": [],
   "source": [
    "probas_GBM = cross_val_predict(GBM_clf, features_arr, labels_arr, cv=3)"
   ]
  },
  {
   "cell_type": "code",
   "execution_count": 39,
   "id": "73609aca-cdb9-49dc-84eb-d1f138d45a84",
   "metadata": {},
   "outputs": [
    {
     "data": {
      "image/png": "[encoded data removed]",
      "text/plain": [
       "<Figure size 480x480 with 1 Axes>"
      ]
     },
     "metadata": {},
     "output_type": "display_data"
    }
   ],
   "source": [
    "conf_mx_GBM = confusion_matrix(labels_arr, probas_GBM)\n",
    "row_sums_GBM = conf_mx_GBM.sum(axis=1, keepdims=True)\n",
    "norm_conf_mx_GBM = conf_mx_GBM / row_sums_GBM\n",
    "np.fill_diagonal(norm_conf_mx_GBM, 0)\n",
    "plt.matshow(norm_conf_mx_GBM, cmap=plt.cm.gray)\n",
    "plt.show()"
   ]
  },
  {
   "cell_type": "code",
   "execution_count": null,
   "id": "d1a41773-e02d-4c43-a4f7-8a92ad133685",
   "metadata": {},
   "outputs": [],
   "source": []
  }
 ],
 "metadata": {
  "kernelspec": {
   "display_name": "Python 3 (ipykernel)",
   "language": "python",
   "name": "python3"
  },
  "language_info": {
   "codemirror_mode": {
    "name": "ipython",
    "version": 3
   },
   "file_extension": ".py",
   "mimetype": "text/x-python",
   "name": "python",
   "nbconvert_exporter": "python",
   "pygments_lexer": "ipython3",
   "version": "3.10.13"
  }
 },
 "nbformat": 4,
 "nbformat_minor": 5
}
